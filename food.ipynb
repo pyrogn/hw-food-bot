{
 "cells": [
  {
   "cell_type": "code",
   "execution_count": 11,
   "metadata": {},
   "outputs": [],
   "source": [
    "import openfoodfacts\n",
    "\n",
    "# User-Agent is mandatory\n",
    "api = openfoodfacts.API(user_agent=\"MyAwesomeApp/1.0\")"
   ]
  },
  {
   "cell_type": "code",
   "execution_count": null,
   "metadata": {},
   "outputs": [],
   "source": [
    "api.product.text_search(\"mineral water\")"
   ]
  }
 ],
 "metadata": {
  "language_info": {
   "name": "python"
  }
 },
 "nbformat": 4,
 "nbformat_minor": 2
}
